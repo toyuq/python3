{
 "cells": [
  {
   "cell_type": "code",
   "execution_count": 1,
   "metadata": {},
   "outputs": [
    {
     "data": {
      "text/html": [
       "<div>\n",
       "<style scoped>\n",
       "    .dataframe tbody tr th:only-of-type {\n",
       "        vertical-align: middle;\n",
       "    }\n",
       "\n",
       "    .dataframe tbody tr th {\n",
       "        vertical-align: top;\n",
       "    }\n",
       "\n",
       "    .dataframe thead th {\n",
       "        text-align: right;\n",
       "    }\n",
       "</style>\n",
       "<table border=\"1\" class=\"dataframe\">\n",
       "  <thead>\n",
       "    <tr style=\"text-align: right;\">\n",
       "      <th></th>\n",
       "      <th>이름</th>\n",
       "      <th>업체</th>\n",
       "      <th>제품</th>\n",
       "    </tr>\n",
       "  </thead>\n",
       "  <tbody>\n",
       "    <tr>\n",
       "      <th>0</th>\n",
       "      <td>송중기</td>\n",
       "      <td>별다방</td>\n",
       "      <td>카페라떼</td>\n",
       "    </tr>\n",
       "    <tr>\n",
       "      <th>1</th>\n",
       "      <td>김나연</td>\n",
       "      <td>콩다방</td>\n",
       "      <td>아이스티</td>\n",
       "    </tr>\n",
       "    <tr>\n",
       "      <th>2</th>\n",
       "      <td>박보검</td>\n",
       "      <td>별다방</td>\n",
       "      <td>카페라떼</td>\n",
       "    </tr>\n",
       "    <tr>\n",
       "      <th>3</th>\n",
       "      <td>권보아</td>\n",
       "      <td>별다방</td>\n",
       "      <td>카페라떼</td>\n",
       "    </tr>\n",
       "    <tr>\n",
       "      <th>4</th>\n",
       "      <td>이효리</td>\n",
       "      <td>별다방</td>\n",
       "      <td>아이스티</td>\n",
       "    </tr>\n",
       "    <tr>\n",
       "      <th>5</th>\n",
       "      <td>김범수</td>\n",
       "      <td>콩다방</td>\n",
       "      <td>카페라떼</td>\n",
       "    </tr>\n",
       "  </tbody>\n",
       "</table>\n",
       "</div>"
      ],
      "text/plain": [
       "    이름   업체    제품\n",
       "0  송중기  별다방  카페라떼\n",
       "1  김나연  콩다방  아이스티\n",
       "2  박보검  별다방  카페라떼\n",
       "3  권보아  별다방  카페라떼\n",
       "4  이효리  별다방  아이스티\n",
       "5  김범수  콩다방  카페라떼"
      ]
     },
     "execution_count": 1,
     "metadata": {},
     "output_type": "execute_result"
    }
   ],
   "source": [
    "import pandas as pd\n",
    "a1 = [\"송중기\", \"김나연\", \"박보검\", \"권보아\", \"이효리\", \"김범수\"]\n",
    "b1 = [\"별다방\", \"콩다방\", \"별다방\", \"별다방\", \"별다방\", \"콩다방\"]\n",
    "c1 = [\"카페라떼\", \"아이스티\", \"카페라떼\", \"카페라떼\", \"아이스티\", \"카페라떼\"]\n",
    "df1 = pd.DataFrame([a1, b1,c1], index=[\"이름\", \"업체\", \"제품\"]).T\n",
    "df2 = pd.read_csv(\"https://raw.githubusercontent.com/\"\n",
    "                  \"panda-kim/pandas/main/value_counts_01.csv\")\n",
    "df1"
   ]
  },
  {
   "cell_type": "code",
   "execution_count": 2,
   "metadata": {},
   "outputs": [
    {
     "data": {
      "text/plain": [
       "제품\n",
       "카페라떼    4\n",
       "아이스티    2\n",
       "dtype: int64"
      ]
     },
     "execution_count": 2,
     "metadata": {},
     "output_type": "execute_result"
    }
   ],
   "source": [
    "df1.value_counts(\"제품\")"
   ]
  },
  {
   "cell_type": "code",
   "execution_count": 4,
   "metadata": {},
   "outputs": [
    {
     "data": {
      "text/plain": [
       "업체   제품  \n",
       "별다방  카페라떼    3\n",
       "     아이스티    1\n",
       "콩다방  아이스티    1\n",
       "     카페라떼    1\n",
       "dtype: int64"
      ]
     },
     "execution_count": 4,
     "metadata": {},
     "output_type": "execute_result"
    }
   ],
   "source": [
    "df1.value_counts([\"업체\", \"제품\"])\n",
    "# 기본정렬 : 카운트 값 기준으로 내림차순"
   ]
  },
  {
   "cell_type": "code",
   "execution_count": 7,
   "metadata": {},
   "outputs": [
    {
     "data": {
      "text/plain": [
       "업체   제품  \n",
       "별다방  아이스티    1\n",
       "콩다방  아이스티    1\n",
       "     카페라떼    1\n",
       "별다방  카페라떼    3\n",
       "dtype: int64"
      ]
     },
     "execution_count": 7,
     "metadata": {},
     "output_type": "execute_result"
    }
   ],
   "source": [
    "df1.value_counts([\"업체\", \"제품\"], ascending=True)\n",
    "# 오름차순"
   ]
  },
  {
   "cell_type": "code",
   "execution_count": 8,
   "metadata": {},
   "outputs": [
    {
     "data": {
      "text/plain": [
       "업체   제품  \n",
       "별다방  카페라떼    0.500000\n",
       "     아이스티    0.166667\n",
       "콩다방  아이스티    0.166667\n",
       "     카페라떼    0.166667\n",
       "dtype: float64"
      ]
     },
     "execution_count": 8,
     "metadata": {},
     "output_type": "execute_result"
    }
   ],
   "source": [
    "df1.value_counts([\"업체\", \"제품\"], normalize=True)\n",
    "# normalize 비율"
   ]
  },
  {
   "cell_type": "code",
   "execution_count": 9,
   "metadata": {},
   "outputs": [
    {
     "data": {
      "text/html": [
       "<div>\n",
       "<style scoped>\n",
       "    .dataframe tbody tr th:only-of-type {\n",
       "        vertical-align: middle;\n",
       "    }\n",
       "\n",
       "    .dataframe tbody tr th {\n",
       "        vertical-align: top;\n",
       "    }\n",
       "\n",
       "    .dataframe thead th {\n",
       "        text-align: right;\n",
       "    }\n",
       "</style>\n",
       "<table border=\"1\" class=\"dataframe\">\n",
       "  <thead>\n",
       "    <tr style=\"text-align: right;\">\n",
       "      <th></th>\n",
       "      <th>이름</th>\n",
       "      <th>반</th>\n",
       "      <th>선택</th>\n",
       "      <th>점수</th>\n",
       "    </tr>\n",
       "  </thead>\n",
       "  <tbody>\n",
       "    <tr>\n",
       "      <th>0</th>\n",
       "      <td>강지환</td>\n",
       "      <td>1</td>\n",
       "      <td>지학</td>\n",
       "      <td>99</td>\n",
       "    </tr>\n",
       "    <tr>\n",
       "      <th>1</th>\n",
       "      <td>고동현</td>\n",
       "      <td>9</td>\n",
       "      <td>지학</td>\n",
       "      <td>99</td>\n",
       "    </tr>\n",
       "    <tr>\n",
       "      <th>2</th>\n",
       "      <td>김도윤</td>\n",
       "      <td>4</td>\n",
       "      <td>화학</td>\n",
       "      <td>99</td>\n",
       "    </tr>\n",
       "    <tr>\n",
       "      <th>3</th>\n",
       "      <td>김사권</td>\n",
       "      <td>8</td>\n",
       "      <td>지학</td>\n",
       "      <td>99</td>\n",
       "    </tr>\n",
       "    <tr>\n",
       "      <th>4</th>\n",
       "      <td>김서원</td>\n",
       "      <td>2</td>\n",
       "      <td>지학</td>\n",
       "      <td>99</td>\n",
       "    </tr>\n",
       "    <tr>\n",
       "      <th>...</th>\n",
       "      <td>...</td>\n",
       "      <td>...</td>\n",
       "      <td>...</td>\n",
       "      <td>...</td>\n",
       "    </tr>\n",
       "    <tr>\n",
       "      <th>369</th>\n",
       "      <td>박성웅</td>\n",
       "      <td>4</td>\n",
       "      <td>지학</td>\n",
       "      <td>60</td>\n",
       "    </tr>\n",
       "    <tr>\n",
       "      <th>370</th>\n",
       "      <td>박원호</td>\n",
       "      <td>7</td>\n",
       "      <td>물리</td>\n",
       "      <td>60</td>\n",
       "    </tr>\n",
       "    <tr>\n",
       "      <th>371</th>\n",
       "      <td>박재광</td>\n",
       "      <td>9</td>\n",
       "      <td>지학</td>\n",
       "      <td>60</td>\n",
       "    </tr>\n",
       "    <tr>\n",
       "      <th>372</th>\n",
       "      <td>박철현</td>\n",
       "      <td>2</td>\n",
       "      <td>지학</td>\n",
       "      <td>60</td>\n",
       "    </tr>\n",
       "    <tr>\n",
       "      <th>373</th>\n",
       "      <td>변요한</td>\n",
       "      <td>7</td>\n",
       "      <td>화학</td>\n",
       "      <td>60</td>\n",
       "    </tr>\n",
       "  </tbody>\n",
       "</table>\n",
       "<p>374 rows × 4 columns</p>\n",
       "</div>"
      ],
      "text/plain": [
       "      이름  반  선택  점수\n",
       "0    강지환  1  지학  99\n",
       "1    고동현  9  지학  99\n",
       "2    김도윤  4  화학  99\n",
       "3    김사권  8  지학  99\n",
       "4    김서원  2  지학  99\n",
       "..   ... ..  ..  ..\n",
       "369  박성웅  4  지학  60\n",
       "370  박원호  7  물리  60\n",
       "371  박재광  9  지학  60\n",
       "372  박철현  2  지학  60\n",
       "373  변요한  7  화학  60\n",
       "\n",
       "[374 rows x 4 columns]"
      ]
     },
     "execution_count": 9,
     "metadata": {},
     "output_type": "execute_result"
    }
   ],
   "source": [
    "df2"
   ]
  },
  {
   "cell_type": "code",
   "execution_count": 10,
   "metadata": {},
   "outputs": [
    {
     "data": {
      "text/plain": [
       "선택\n",
       "생물    105\n",
       "화학     97\n",
       "지학     89\n",
       "물리     83\n",
       "dtype: int64"
      ]
     },
     "execution_count": 10,
     "metadata": {},
     "output_type": "execute_result"
    }
   ],
   "source": [
    "df2.value_counts(\"선택\")"
   ]
  },
  {
   "cell_type": "code",
   "execution_count": 11,
   "metadata": {},
   "outputs": [
    {
     "data": {
      "text/plain": [
       "선택\n",
       "생물    105\n",
       "화학     97\n",
       "지학     89\n",
       "dtype: int64"
      ]
     },
     "execution_count": 11,
     "metadata": {},
     "output_type": "execute_result"
    }
   ],
   "source": [
    "df2.value_counts(\"선택\").iloc[0:3]\n",
    "# 상위 3개"
   ]
  },
  {
   "cell_type": "code",
   "execution_count": 12,
   "metadata": {},
   "outputs": [
    {
     "data": {
      "text/plain": [
       "Index(['생물', '화학', '지학'], dtype='object', name='선택')"
      ]
     },
     "execution_count": 12,
     "metadata": {},
     "output_type": "execute_result"
    }
   ],
   "source": [
    "df2.value_counts(\"선택\").iloc[0:3].index"
   ]
  },
  {
   "cell_type": "code",
   "execution_count": 14,
   "metadata": {},
   "outputs": [
    {
     "data": {
      "text/plain": [
       "0       True\n",
       "1       True\n",
       "2       True\n",
       "3       True\n",
       "4       True\n",
       "       ...  \n",
       "369     True\n",
       "370    False\n",
       "371     True\n",
       "372     True\n",
       "373     True\n",
       "Name: 선택, Length: 374, dtype: bool"
      ]
     },
     "execution_count": 14,
     "metadata": {},
     "output_type": "execute_result"
    }
   ],
   "source": [
    "df2[\"선택\"].isin(df2.value_counts(\"선택\").iloc[0:3].index)\n",
    "# 생물, 화학, 지학이 있는지 true/false 반환"
   ]
  },
  {
   "cell_type": "code",
   "execution_count": 15,
   "metadata": {},
   "outputs": [
    {
     "data": {
      "text/html": [
       "<div>\n",
       "<style scoped>\n",
       "    .dataframe tbody tr th:only-of-type {\n",
       "        vertical-align: middle;\n",
       "    }\n",
       "\n",
       "    .dataframe tbody tr th {\n",
       "        vertical-align: top;\n",
       "    }\n",
       "\n",
       "    .dataframe thead th {\n",
       "        text-align: right;\n",
       "    }\n",
       "</style>\n",
       "<table border=\"1\" class=\"dataframe\">\n",
       "  <thead>\n",
       "    <tr style=\"text-align: right;\">\n",
       "      <th></th>\n",
       "      <th>이름</th>\n",
       "      <th>반</th>\n",
       "      <th>선택</th>\n",
       "      <th>점수</th>\n",
       "    </tr>\n",
       "  </thead>\n",
       "  <tbody>\n",
       "    <tr>\n",
       "      <th>0</th>\n",
       "      <td>강지환</td>\n",
       "      <td>1</td>\n",
       "      <td>지학</td>\n",
       "      <td>99</td>\n",
       "    </tr>\n",
       "    <tr>\n",
       "      <th>1</th>\n",
       "      <td>고동현</td>\n",
       "      <td>9</td>\n",
       "      <td>지학</td>\n",
       "      <td>99</td>\n",
       "    </tr>\n",
       "    <tr>\n",
       "      <th>2</th>\n",
       "      <td>김도윤</td>\n",
       "      <td>4</td>\n",
       "      <td>화학</td>\n",
       "      <td>99</td>\n",
       "    </tr>\n",
       "    <tr>\n",
       "      <th>3</th>\n",
       "      <td>김사권</td>\n",
       "      <td>8</td>\n",
       "      <td>지학</td>\n",
       "      <td>99</td>\n",
       "    </tr>\n",
       "    <tr>\n",
       "      <th>4</th>\n",
       "      <td>김서원</td>\n",
       "      <td>2</td>\n",
       "      <td>지학</td>\n",
       "      <td>99</td>\n",
       "    </tr>\n",
       "    <tr>\n",
       "      <th>...</th>\n",
       "      <td>...</td>\n",
       "      <td>...</td>\n",
       "      <td>...</td>\n",
       "      <td>...</td>\n",
       "    </tr>\n",
       "    <tr>\n",
       "      <th>368</th>\n",
       "      <td>박상욱</td>\n",
       "      <td>4</td>\n",
       "      <td>화학</td>\n",
       "      <td>60</td>\n",
       "    </tr>\n",
       "    <tr>\n",
       "      <th>369</th>\n",
       "      <td>박성웅</td>\n",
       "      <td>4</td>\n",
       "      <td>지학</td>\n",
       "      <td>60</td>\n",
       "    </tr>\n",
       "    <tr>\n",
       "      <th>371</th>\n",
       "      <td>박재광</td>\n",
       "      <td>9</td>\n",
       "      <td>지학</td>\n",
       "      <td>60</td>\n",
       "    </tr>\n",
       "    <tr>\n",
       "      <th>372</th>\n",
       "      <td>박철현</td>\n",
       "      <td>2</td>\n",
       "      <td>지학</td>\n",
       "      <td>60</td>\n",
       "    </tr>\n",
       "    <tr>\n",
       "      <th>373</th>\n",
       "      <td>변요한</td>\n",
       "      <td>7</td>\n",
       "      <td>화학</td>\n",
       "      <td>60</td>\n",
       "    </tr>\n",
       "  </tbody>\n",
       "</table>\n",
       "<p>291 rows × 4 columns</p>\n",
       "</div>"
      ],
      "text/plain": [
       "      이름  반  선택  점수\n",
       "0    강지환  1  지학  99\n",
       "1    고동현  9  지학  99\n",
       "2    김도윤  4  화학  99\n",
       "3    김사권  8  지학  99\n",
       "4    김서원  2  지학  99\n",
       "..   ... ..  ..  ..\n",
       "368  박상욱  4  화학  60\n",
       "369  박성웅  4  지학  60\n",
       "371  박재광  9  지학  60\n",
       "372  박철현  2  지학  60\n",
       "373  변요한  7  화학  60\n",
       "\n",
       "[291 rows x 4 columns]"
      ]
     },
     "execution_count": 15,
     "metadata": {},
     "output_type": "execute_result"
    }
   ],
   "source": [
    "df2.loc[df2[\"선택\"].isin(df2.value_counts(\"선택\").iloc[0:3].index)]\n",
    "# 생물, 화학, 지학이 포함된 행 반환(필터)"
   ]
  }
 ],
 "metadata": {
  "kernelspec": {
   "display_name": "base",
   "language": "python",
   "name": "python3"
  },
  "language_info": {
   "codemirror_mode": {
    "name": "ipython",
    "version": 3
   },
   "file_extension": ".py",
   "mimetype": "text/x-python",
   "name": "python",
   "nbconvert_exporter": "python",
   "pygments_lexer": "ipython3",
   "version": "3.9.13"
  },
  "orig_nbformat": 4
 },
 "nbformat": 4,
 "nbformat_minor": 2
}
